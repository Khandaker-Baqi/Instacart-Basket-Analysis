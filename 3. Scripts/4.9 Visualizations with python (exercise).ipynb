{
 "cells": [
  {
   "cell_type": "markdown",
   "id": "ba9d0ede",
   "metadata": {},
   "source": [
    "# Exercise 4.9"
   ]
  },
  {
   "cell_type": "markdown",
   "id": "a4077a46",
   "metadata": {},
   "source": [
    "## Importing libraries"
   ]
  },
  {
   "cell_type": "code",
   "execution_count": 1,
   "id": "dc0309fb",
   "metadata": {},
   "outputs": [],
   "source": [
    "# importing libraries\n",
    "import pandas as pd\n",
    "import numpy as np\n",
    "import os\n",
    "import matplotlib.pyplot as plt\n",
    "import seaborn as sns\n",
    "import scipy"
   ]
  },
  {
   "cell_type": "markdown",
   "id": "e124a23a",
   "metadata": {},
   "source": [
    "## Defining path variable"
   ]
  },
  {
   "cell_type": "code",
   "execution_count": 2,
   "id": "110b8fe8",
   "metadata": {},
   "outputs": [],
   "source": [
    "# defining path variable\n",
    "path = r'C:\\Users\\khand\\Desktop\\Careerfoundry\\Data Immersion\\Achievement - 4\\04-2022 Instacart Basket Analysis'"
   ]
  },
  {
   "cell_type": "markdown",
   "id": "89aa9b16",
   "metadata": {},
   "source": [
    "## Importing dataframe"
   ]
  },
  {
   "cell_type": "code",
   "execution_count": 3,
   "id": "23ea1dcc",
   "metadata": {},
   "outputs": [],
   "source": [
    "# importing dataframe\n",
    "df_orders_products_merged = pd.read_pickle(os.path.join(path, '2. Data', 'Prepared Data', 'orders_products_merged_flagged_v2.pkl'))"
   ]
  },
  {
   "cell_type": "markdown",
   "id": "aa7b7f4d",
   "metadata": {},
   "source": [
    "## Checking the column names, datatypes and number of rows and columns of the imported dataframe"
   ]
  },
  {
   "cell_type": "code",
   "execution_count": 4,
   "id": "4f5a4fa8",
   "metadata": {},
   "outputs": [
    {
     "name": "stdout",
     "output_type": "stream",
     "text": [
      "<class 'pandas.core.frame.DataFrame'>\n",
      "Int64Index: 32404859 entries, 0 to 32404858\n",
      "Data columns (total 25 columns):\n",
      " #   Column                            Dtype   \n",
      "---  ------                            -----   \n",
      " 0   order_id                          object  \n",
      " 1   user_id                           object  \n",
      " 2   order_number                      int64   \n",
      " 3   order_day_of_week                 object  \n",
      " 4   order_time_24h_format             object  \n",
      " 5   days_since_prior_order            float64 \n",
      " 6   product_id                        object  \n",
      " 7   add_to_cart_order                 int64   \n",
      " 8   reordered                         int64   \n",
      " 9   merge_flag_1                      category\n",
      " 10  product_name                      object  \n",
      " 11  aisle_id                          object  \n",
      " 12  department_id                     object  \n",
      " 13  prices                            float64 \n",
      " 14  _merge                            category\n",
      " 15  price_range                       object  \n",
      " 16  busiest_day                       object  \n",
      " 17  busiest_days                      object  \n",
      " 18  busiest_period_of_the_day         object  \n",
      " 19  max_orders                        int64   \n",
      " 20  loyalty_flag                      object  \n",
      " 21  avg_price                         float64 \n",
      " 22  price_flag                        object  \n",
      " 23  median_of_days_since_prior_order  float64 \n",
      " 24  frequency_flag                    object  \n",
      "dtypes: category(2), float64(4), int64(4), object(15)\n",
      "memory usage: 5.9+ GB\n"
     ]
    }
   ],
   "source": [
    "# checking the column names, datatypes and number of rows and columns of the importe dataframe\n",
    "df_orders_products_merged.info()"
   ]
  },
  {
   "cell_type": "markdown",
   "id": "8dc87e4a",
   "metadata": {},
   "source": [
    "## Creating a bar chart"
   ]
  },
  {
   "cell_type": "code",
   "execution_count": 5,
   "id": "9a50332e",
   "metadata": {},
   "outputs": [
    {
     "data": {
      "text/plain": [
       "<AxesSubplot:>"
      ]
     },
     "execution_count": 5,
     "metadata": {},
     "output_type": "execute_result"
    },
    {
     "data": {
      "image/png": "[encoded data removed]",
      "text/plain": [
       "<Figure size 432x288 with 1 Axes>"
      ]
     },
     "metadata": {
      "needs_background": "light"
     },
     "output_type": "display_data"
    }
   ],
   "source": [
    "# creating a bar chart\n",
    "df_orders_products_merged['order_day_of_week'].value_counts().plot.bar()"
   ]
  },
  {
   "cell_type": "code",
   "execution_count": 6,
   "id": "46f7e0f8",
   "metadata": {},
   "outputs": [
    {
     "data": {
      "text/plain": [
       "<AxesSubplot:>"
      ]
     },
     "execution_count": 6,
     "metadata": {},
     "output_type": "execute_result"
    },
    {
     "data": {
      "image/png": "[encoded data removed]",
      "text/plain": [
       "<Figure size 432x288 with 1 Axes>"
      ]
     },
     "metadata": {
      "needs_background": "light"
     },
     "output_type": "display_data"
    }
   ],
   "source": [
    "# creating a bar chart while sorting by index\n",
    "df_orders_products_merged['order_day_of_week'].value_counts(dropna = False).sort_index().plot.bar()"
   ]
  },
  {
   "cell_type": "code",
   "execution_count": 7,
   "id": "3bda3aae",
   "metadata": {},
   "outputs": [
    {
     "data": {
      "text/plain": [
       "<AxesSubplot:>"
      ]
     },
     "execution_count": 7,
     "metadata": {},
     "output_type": "execute_result"
    },
    {
     "data": {
      "image/png": "[encoded data removed]",
      "text/plain": [
       "<Figure size 432x288 with 1 Axes>"
      ]
     },
     "metadata": {
      "needs_background": "light"
     },
     "output_type": "display_data"
    }
   ],
   "source": [
    "# creating bar chart with bars of different colors using the \"color\" argument in the 'bar()'' function\n",
    "df_orders_products_merged['order_day_of_week'].value_counts(dropna = False).sort_index().plot.bar(color = ['red', 'orangered', 'orange', 'yellow', 'lime', 'green', 'darkgreen'])"
   ]
  },
  {
   "cell_type": "code",
   "execution_count": 8,
   "id": "e5effdbb",
   "metadata": {},
   "outputs": [
    {
     "data": {
      "image/png": "[encoded data removed]",
      "text/plain": [
       "<Figure size 432x288 with 1 Axes>"
      ]
     },
     "metadata": {
      "needs_background": "light"
     },
     "output_type": "display_data"
    }
   ],
   "source": [
    "# saving the bar chart in the bar object\n",
    "bar = df_orders_products_merged['order_day_of_week'].value_counts(dropna = False).sort_index().plot.bar(color = ['red', 'orangered', 'orange', 'yellow', 'lime', 'green', 'darkgreen'])"
   ]
  },
  {
   "cell_type": "code",
   "execution_count": 9,
   "id": "028d09c9",
   "metadata": {},
   "outputs": [
    {
     "data": {
      "image/png": "[encoded data removed]",
      "text/plain": [
       "<Figure size 432x288 with 1 Axes>"
      ]
     },
     "execution_count": 9,
     "metadata": {},
     "output_type": "execute_result"
    }
   ],
   "source": [
    "# printing the \"bar\" object\n",
    "bar.figure"
   ]
  },
  {
   "cell_type": "markdown",
   "id": "a790974e",
   "metadata": {},
   "source": [
    "## Exporting charts "
   ]
  },
  {
   "cell_type": "code",
   "execution_count": 10,
   "id": "24519972",
   "metadata": {},
   "outputs": [],
   "source": [
    "# exporting charts in image format with \"savefig()\" function\n",
    "bar.figure.savefig(os.path.join(path, '4. Analysis', 'Visualization', 'bar_orders_day_of_week.png'))"
   ]
  },
  {
   "cell_type": "markdown",
   "id": "af1069b9",
   "metadata": {},
   "source": [
    "## Creating a histogram"
   ]
  },
  {
   "cell_type": "code",
   "execution_count": 11,
   "id": "667460f4",
   "metadata": {},
   "outputs": [
    {
     "data": {
      "text/plain": [
       "<AxesSubplot:ylabel='Frequency'>"
      ]
     },
     "execution_count": 11,
     "metadata": {},
     "output_type": "execute_result"
    },
    {
     "data": {
      "image/png": "[encoded data removed]",
      "text/plain": [
       "<Figure size 432x288 with 1 Axes>"
      ]
     },
     "metadata": {
      "needs_background": "light"
     },
     "output_type": "display_data"
    }
   ],
   "source": [
    "# creating a histogram for the \"prices\" column\n",
    "df_orders_products_merged['prices'].plot.hist(bins = 25)"
   ]
  },
  {
   "cell_type": "markdown",
   "id": "d6c5877f",
   "metadata": {},
   "source": [
    "## Creating scatterplots"
   ]
  },
  {
   "cell_type": "code",
   "execution_count": 12,
   "id": "637748a2",
   "metadata": {},
   "outputs": [
    {
     "data": {
      "text/plain": [
       "<AxesSubplot:xlabel='prices', ylabel='prices'>"
      ]
     },
     "execution_count": 12,
     "metadata": {},
     "output_type": "execute_result"
    },
    {
     "data": {
      "image/png": "[encoded data removed]",
      "text/plain": [
       "<Figure size 432x288 with 1 Axes>"
      ]
     },
     "metadata": {
      "needs_background": "light"
     },
     "output_type": "display_data"
    }
   ],
   "source": [
    "# creating scatterplot\n",
    "sns.scatterplot(x = 'prices', y = 'prices', data = df_orders_products_merged)"
   ]
  },
  {
   "cell_type": "markdown",
   "id": "b5620d8f",
   "metadata": {},
   "source": [
    "## Exploratory checks of the data"
   ]
  },
  {
   "cell_type": "code",
   "execution_count": 13,
   "id": "753e2f65",
   "metadata": {},
   "outputs": [
    {
     "data": {
      "text/html": [
       "<div>\n",
       "<style scoped>\n",
       "    .dataframe tbody tr th:only-of-type {\n",
       "        vertical-align: middle;\n",
       "    }\n",
       "\n",
       "    .dataframe tbody tr th {\n",
       "        vertical-align: top;\n",
       "    }\n",
       "\n",
       "    .dataframe thead th {\n",
       "        text-align: right;\n",
       "    }\n",
       "</style>\n",
       "<table border=\"1\" class=\"dataframe\">\n",
       "  <thead>\n",
       "    <tr style=\"text-align: right;\">\n",
       "      <th></th>\n",
       "      <th>order_id</th>\n",
       "      <th>user_id</th>\n",
       "      <th>order_number</th>\n",
       "      <th>order_day_of_week</th>\n",
       "      <th>order_time_24h_format</th>\n",
       "      <th>days_since_prior_order</th>\n",
       "      <th>product_id</th>\n",
       "      <th>add_to_cart_order</th>\n",
       "      <th>reordered</th>\n",
       "      <th>merge_flag_1</th>\n",
       "      <th>...</th>\n",
       "      <th>price_range</th>\n",
       "      <th>busiest_day</th>\n",
       "      <th>busiest_days</th>\n",
       "      <th>busiest_period_of_the_day</th>\n",
       "      <th>max_orders</th>\n",
       "      <th>loyalty_flag</th>\n",
       "      <th>avg_price</th>\n",
       "      <th>price_flag</th>\n",
       "      <th>median_of_days_since_prior_order</th>\n",
       "      <th>frequency_flag</th>\n",
       "    </tr>\n",
       "  </thead>\n",
       "  <tbody>\n",
       "    <tr>\n",
       "      <th>10030345</th>\n",
       "      <td>912404</td>\n",
       "      <td>17</td>\n",
       "      <td>12</td>\n",
       "      <td>2</td>\n",
       "      <td>14</td>\n",
       "      <td>5.0</td>\n",
       "      <td>21553</td>\n",
       "      <td>5</td>\n",
       "      <td>0</td>\n",
       "      <td>both</td>\n",
       "      <td>...</td>\n",
       "      <td>High-range product</td>\n",
       "      <td>Regularly busy</td>\n",
       "      <td>Regularly busy days</td>\n",
       "      <td>Most orders</td>\n",
       "      <td>40</td>\n",
       "      <td>Regular customer</td>\n",
       "      <td>108.648299</td>\n",
       "      <td>High spender</td>\n",
       "      <td>5.0</td>\n",
       "      <td>Frequent customer</td>\n",
       "    </tr>\n",
       "    <tr>\n",
       "      <th>10030346</th>\n",
       "      <td>603376</td>\n",
       "      <td>17</td>\n",
       "      <td>22</td>\n",
       "      <td>6</td>\n",
       "      <td>16</td>\n",
       "      <td>4.0</td>\n",
       "      <td>21553</td>\n",
       "      <td>3</td>\n",
       "      <td>1</td>\n",
       "      <td>both</td>\n",
       "      <td>...</td>\n",
       "      <td>High-range product</td>\n",
       "      <td>Regularly busy</td>\n",
       "      <td>Regularly busy days</td>\n",
       "      <td>Most orders</td>\n",
       "      <td>40</td>\n",
       "      <td>Regular customer</td>\n",
       "      <td>108.648299</td>\n",
       "      <td>High spender</td>\n",
       "      <td>5.0</td>\n",
       "      <td>Frequent customer</td>\n",
       "    </tr>\n",
       "    <tr>\n",
       "      <th>10030347</th>\n",
       "      <td>3264360</td>\n",
       "      <td>135</td>\n",
       "      <td>2</td>\n",
       "      <td>2</td>\n",
       "      <td>21</td>\n",
       "      <td>13.0</td>\n",
       "      <td>21553</td>\n",
       "      <td>6</td>\n",
       "      <td>0</td>\n",
       "      <td>both</td>\n",
       "      <td>...</td>\n",
       "      <td>High-range product</td>\n",
       "      <td>Regularly busy</td>\n",
       "      <td>Regularly busy days</td>\n",
       "      <td>Average orders</td>\n",
       "      <td>4</td>\n",
       "      <td>New customer</td>\n",
       "      <td>1154.792308</td>\n",
       "      <td>High spender</td>\n",
       "      <td>12.0</td>\n",
       "      <td>Regular customer</td>\n",
       "    </tr>\n",
       "    <tr>\n",
       "      <th>10030348</th>\n",
       "      <td>892534</td>\n",
       "      <td>135</td>\n",
       "      <td>3</td>\n",
       "      <td>0</td>\n",
       "      <td>8</td>\n",
       "      <td>12.0</td>\n",
       "      <td>21553</td>\n",
       "      <td>3</td>\n",
       "      <td>1</td>\n",
       "      <td>both</td>\n",
       "      <td>...</td>\n",
       "      <td>High-range product</td>\n",
       "      <td>Busiest day</td>\n",
       "      <td>Busiest days</td>\n",
       "      <td>Average orders</td>\n",
       "      <td>4</td>\n",
       "      <td>New customer</td>\n",
       "      <td>1154.792308</td>\n",
       "      <td>High spender</td>\n",
       "      <td>12.0</td>\n",
       "      <td>Regular customer</td>\n",
       "    </tr>\n",
       "    <tr>\n",
       "      <th>10030349</th>\n",
       "      <td>229704</td>\n",
       "      <td>342</td>\n",
       "      <td>8</td>\n",
       "      <td>1</td>\n",
       "      <td>19</td>\n",
       "      <td>30.0</td>\n",
       "      <td>21553</td>\n",
       "      <td>9</td>\n",
       "      <td>0</td>\n",
       "      <td>both</td>\n",
       "      <td>...</td>\n",
       "      <td>High-range product</td>\n",
       "      <td>Regularly busy</td>\n",
       "      <td>Busiest days</td>\n",
       "      <td>Average orders</td>\n",
       "      <td>16</td>\n",
       "      <td>Regular customer</td>\n",
       "      <td>114.426619</td>\n",
       "      <td>High spender</td>\n",
       "      <td>23.0</td>\n",
       "      <td>Non-frequent customer</td>\n",
       "    </tr>\n",
       "    <tr>\n",
       "      <th>...</th>\n",
       "      <td>...</td>\n",
       "      <td>...</td>\n",
       "      <td>...</td>\n",
       "      <td>...</td>\n",
       "      <td>...</td>\n",
       "      <td>...</td>\n",
       "      <td>...</td>\n",
       "      <td>...</td>\n",
       "      <td>...</td>\n",
       "      <td>...</td>\n",
       "      <td>...</td>\n",
       "      <td>...</td>\n",
       "      <td>...</td>\n",
       "      <td>...</td>\n",
       "      <td>...</td>\n",
       "      <td>...</td>\n",
       "      <td>...</td>\n",
       "      <td>...</td>\n",
       "      <td>...</td>\n",
       "      <td>...</td>\n",
       "      <td>...</td>\n",
       "    </tr>\n",
       "    <tr>\n",
       "      <th>29166209</th>\n",
       "      <td>2249946</td>\n",
       "      <td>204099</td>\n",
       "      <td>29</td>\n",
       "      <td>0</td>\n",
       "      <td>8</td>\n",
       "      <td>4.0</td>\n",
       "      <td>33664</td>\n",
       "      <td>1</td>\n",
       "      <td>0</td>\n",
       "      <td>both</td>\n",
       "      <td>...</td>\n",
       "      <td>High-range product</td>\n",
       "      <td>Busiest day</td>\n",
       "      <td>Busiest days</td>\n",
       "      <td>Average orders</td>\n",
       "      <td>39</td>\n",
       "      <td>Regular customer</td>\n",
       "      <td>1106.743956</td>\n",
       "      <td>High spender</td>\n",
       "      <td>4.0</td>\n",
       "      <td>Frequent customer</td>\n",
       "    </tr>\n",
       "    <tr>\n",
       "      <th>29166210</th>\n",
       "      <td>2363282</td>\n",
       "      <td>204099</td>\n",
       "      <td>31</td>\n",
       "      <td>0</td>\n",
       "      <td>9</td>\n",
       "      <td>2.0</td>\n",
       "      <td>33664</td>\n",
       "      <td>1</td>\n",
       "      <td>1</td>\n",
       "      <td>both</td>\n",
       "      <td>...</td>\n",
       "      <td>High-range product</td>\n",
       "      <td>Busiest day</td>\n",
       "      <td>Busiest days</td>\n",
       "      <td>Most orders</td>\n",
       "      <td>39</td>\n",
       "      <td>Regular customer</td>\n",
       "      <td>1106.743956</td>\n",
       "      <td>High spender</td>\n",
       "      <td>4.0</td>\n",
       "      <td>Frequent customer</td>\n",
       "    </tr>\n",
       "    <tr>\n",
       "      <th>29166211</th>\n",
       "      <td>3181945</td>\n",
       "      <td>204395</td>\n",
       "      <td>13</td>\n",
       "      <td>3</td>\n",
       "      <td>15</td>\n",
       "      <td>8.0</td>\n",
       "      <td>33664</td>\n",
       "      <td>25</td>\n",
       "      <td>0</td>\n",
       "      <td>both</td>\n",
       "      <td>...</td>\n",
       "      <td>High-range product</td>\n",
       "      <td>Regularly busy</td>\n",
       "      <td>Least busy days</td>\n",
       "      <td>Most orders</td>\n",
       "      <td>15</td>\n",
       "      <td>Regular customer</td>\n",
       "      <td>451.153540</td>\n",
       "      <td>High spender</td>\n",
       "      <td>5.0</td>\n",
       "      <td>Frequent customer</td>\n",
       "    </tr>\n",
       "    <tr>\n",
       "      <th>29166212</th>\n",
       "      <td>2486215</td>\n",
       "      <td>205227</td>\n",
       "      <td>7</td>\n",
       "      <td>3</td>\n",
       "      <td>20</td>\n",
       "      <td>4.0</td>\n",
       "      <td>33664</td>\n",
       "      <td>8</td>\n",
       "      <td>0</td>\n",
       "      <td>both</td>\n",
       "      <td>...</td>\n",
       "      <td>High-range product</td>\n",
       "      <td>Regularly busy</td>\n",
       "      <td>Least busy days</td>\n",
       "      <td>Average orders</td>\n",
       "      <td>12</td>\n",
       "      <td>Regular customer</td>\n",
       "      <td>1178.381871</td>\n",
       "      <td>High spender</td>\n",
       "      <td>12.0</td>\n",
       "      <td>Regular customer</td>\n",
       "    </tr>\n",
       "    <tr>\n",
       "      <th>29166213</th>\n",
       "      <td>2232716</td>\n",
       "      <td>205227</td>\n",
       "      <td>10</td>\n",
       "      <td>0</td>\n",
       "      <td>11</td>\n",
       "      <td>4.0</td>\n",
       "      <td>33664</td>\n",
       "      <td>23</td>\n",
       "      <td>1</td>\n",
       "      <td>both</td>\n",
       "      <td>...</td>\n",
       "      <td>High-range product</td>\n",
       "      <td>Busiest day</td>\n",
       "      <td>Busiest days</td>\n",
       "      <td>Most orders</td>\n",
       "      <td>12</td>\n",
       "      <td>Regular customer</td>\n",
       "      <td>1178.381871</td>\n",
       "      <td>High spender</td>\n",
       "      <td>12.0</td>\n",
       "      <td>Regular customer</td>\n",
       "    </tr>\n",
       "  </tbody>\n",
       "</table>\n",
       "<p>5127 rows × 25 columns</p>\n",
       "</div>"
      ],
      "text/plain": [
       "         order_id user_id  order_number order_day_of_week  \\\n",
       "10030345   912404      17            12                 2   \n",
       "10030346   603376      17            22                 6   \n",
       "10030347  3264360     135             2                 2   \n",
       "10030348   892534     135             3                 0   \n",
       "10030349   229704     342             8                 1   \n",
       "...           ...     ...           ...               ...   \n",
       "29166209  2249946  204099            29                 0   \n",
       "29166210  2363282  204099            31                 0   \n",
       "29166211  3181945  204395            13                 3   \n",
       "29166212  2486215  205227             7                 3   \n",
       "29166213  2232716  205227            10                 0   \n",
       "\n",
       "         order_time_24h_format  days_since_prior_order product_id  \\\n",
       "10030345                    14                     5.0      21553   \n",
       "10030346                    16                     4.0      21553   \n",
       "10030347                    21                    13.0      21553   \n",
       "10030348                     8                    12.0      21553   \n",
       "10030349                    19                    30.0      21553   \n",
       "...                        ...                     ...        ...   \n",
       "29166209                     8                     4.0      33664   \n",
       "29166210                     9                     2.0      33664   \n",
       "29166211                    15                     8.0      33664   \n",
       "29166212                    20                     4.0      33664   \n",
       "29166213                    11                     4.0      33664   \n",
       "\n",
       "          add_to_cart_order  reordered merge_flag_1  ...         price_range  \\\n",
       "10030345                  5          0         both  ...  High-range product   \n",
       "10030346                  3          1         both  ...  High-range product   \n",
       "10030347                  6          0         both  ...  High-range product   \n",
       "10030348                  3          1         both  ...  High-range product   \n",
       "10030349                  9          0         both  ...  High-range product   \n",
       "...                     ...        ...          ...  ...                 ...   \n",
       "29166209                  1          0         both  ...  High-range product   \n",
       "29166210                  1          1         both  ...  High-range product   \n",
       "29166211                 25          0         both  ...  High-range product   \n",
       "29166212                  8          0         both  ...  High-range product   \n",
       "29166213                 23          1         both  ...  High-range product   \n",
       "\n",
       "             busiest_day         busiest_days  busiest_period_of_the_day  \\\n",
       "10030345  Regularly busy  Regularly busy days                Most orders   \n",
       "10030346  Regularly busy  Regularly busy days                Most orders   \n",
       "10030347  Regularly busy  Regularly busy days             Average orders   \n",
       "10030348     Busiest day         Busiest days             Average orders   \n",
       "10030349  Regularly busy         Busiest days             Average orders   \n",
       "...                  ...                  ...                        ...   \n",
       "29166209     Busiest day         Busiest days             Average orders   \n",
       "29166210     Busiest day         Busiest days                Most orders   \n",
       "29166211  Regularly busy      Least busy days                Most orders   \n",
       "29166212  Regularly busy      Least busy days             Average orders   \n",
       "29166213     Busiest day         Busiest days                Most orders   \n",
       "\n",
       "         max_orders      loyalty_flag    avg_price    price_flag  \\\n",
       "10030345         40  Regular customer   108.648299  High spender   \n",
       "10030346         40  Regular customer   108.648299  High spender   \n",
       "10030347          4      New customer  1154.792308  High spender   \n",
       "10030348          4      New customer  1154.792308  High spender   \n",
       "10030349         16  Regular customer   114.426619  High spender   \n",
       "...             ...               ...          ...           ...   \n",
       "29166209         39  Regular customer  1106.743956  High spender   \n",
       "29166210         39  Regular customer  1106.743956  High spender   \n",
       "29166211         15  Regular customer   451.153540  High spender   \n",
       "29166212         12  Regular customer  1178.381871  High spender   \n",
       "29166213         12  Regular customer  1178.381871  High spender   \n",
       "\n",
       "         median_of_days_since_prior_order         frequency_flag  \n",
       "10030345                              5.0      Frequent customer  \n",
       "10030346                              5.0      Frequent customer  \n",
       "10030347                             12.0       Regular customer  \n",
       "10030348                             12.0       Regular customer  \n",
       "10030349                             23.0  Non-frequent customer  \n",
       "...                                   ...                    ...  \n",
       "29166209                              4.0      Frequent customer  \n",
       "29166210                              4.0      Frequent customer  \n",
       "29166211                              5.0      Frequent customer  \n",
       "29166212                             12.0       Regular customer  \n",
       "29166213                             12.0       Regular customer  \n",
       "\n",
       "[5127 rows x 25 columns]"
      ]
     },
     "execution_count": 13,
     "metadata": {},
     "output_type": "execute_result"
    }
   ],
   "source": [
    "# checking for records with \"prices\" < 100\n",
    "df_orders_products_merged.loc[df_orders_products_merged['prices'] > 100]"
   ]
  },
  {
   "cell_type": "markdown",
   "id": "8457c0f3",
   "metadata": {},
   "source": [
    "## Replacing the prices above 100 with Nan/null values"
   ]
  },
  {
   "cell_type": "code",
   "execution_count": 14,
   "id": "0b75a2ef",
   "metadata": {},
   "outputs": [],
   "source": [
    "# replacing the outliers with null values\n",
    "df_orders_products_merged.loc[df_orders_products_merged['prices'] > 100, 'prices'] = np.nan"
   ]
  },
  {
   "cell_type": "code",
   "execution_count": 15,
   "id": "9b5eb24e",
   "metadata": {},
   "outputs": [
    {
     "data": {
      "text/plain": [
       "25.0"
      ]
     },
     "execution_count": 15,
     "metadata": {},
     "output_type": "execute_result"
    }
   ],
   "source": [
    "# checking the maximum value in the 'Prices' column\n",
    "df_orders_products_merged['prices'].max()"
   ]
  },
  {
   "cell_type": "markdown",
   "id": "918c27d3",
   "metadata": {},
   "source": [
    "## Re-creating the histograms for the \"prices\" column"
   ]
  },
  {
   "cell_type": "code",
   "execution_count": 16,
   "id": "5a05ff67",
   "metadata": {},
   "outputs": [
    {
     "data": {
      "text/plain": [
       "<AxesSubplot:ylabel='Frequency'>"
      ]
     },
     "execution_count": 16,
     "metadata": {},
     "output_type": "execute_result"
    },
    {
     "data": {
      "image/png": "[encoded data removed]",
      "text/plain": [
       "<Figure size 432x288 with 1 Axes>"
      ]
     },
     "metadata": {
      "needs_background": "light"
     },
     "output_type": "display_data"
    }
   ],
   "source": [
    "# re-creating the histogram for the \"prices\" column\n",
    "df_orders_products_merged['prices'].plot.hist(bins = 25)"
   ]
  },
  {
   "cell_type": "code",
   "execution_count": 17,
   "id": "05f0a36b",
   "metadata": {},
   "outputs": [
    {
     "data": {
      "text/plain": [
       "<AxesSubplot:ylabel='Frequency'>"
      ]
     },
     "execution_count": 17,
     "metadata": {},
     "output_type": "execute_result"
    },
    {
     "data": {
      "image/png": "[encoded data removed]",
      "text/plain": [
       "<Figure size 432x288 with 1 Axes>"
      ]
     },
     "metadata": {
      "needs_background": "light"
     },
     "output_type": "display_data"
    }
   ],
   "source": [
    "# recreating the histogram with higher number of bins\n",
    "df_orders_products_merged['prices'].plot.hist(bins = 70)"
   ]
  },
  {
   "cell_type": "markdown",
   "id": "79f8b771",
   "metadata": {},
   "source": [
    "## Saving and exporting the histogram"
   ]
  },
  {
   "cell_type": "code",
   "execution_count": 18,
   "id": "232982b0",
   "metadata": {},
   "outputs": [
    {
     "data": {
      "image/png": "[encoded data removed]",
      "text/plain": [
       "<Figure size 432x288 with 1 Axes>"
      ]
     },
     "metadata": {
      "needs_background": "light"
     },
     "output_type": "display_data"
    }
   ],
   "source": [
    "# saving the histogram in the hist object\n",
    "hist = df_orders_products_merged['prices'].plot.hist(bins = 70)"
   ]
  },
  {
   "cell_type": "code",
   "execution_count": 19,
   "id": "e7ac317e",
   "metadata": {},
   "outputs": [
    {
     "data": {
      "image/png": "[encoded data removed]",
      "text/plain": [
       "<Figure size 432x288 with 1 Axes>"
      ]
     },
     "execution_count": 19,
     "metadata": {},
     "output_type": "execute_result"
    }
   ],
   "source": [
    "# printing the hist object\n",
    "hist.figure"
   ]
  },
  {
   "cell_type": "code",
   "execution_count": 20,
   "id": "7267c7ca",
   "metadata": {},
   "outputs": [],
   "source": [
    "# exporting the histogram\n",
    "hist.figure.savefig(os.path.join(path, '4. Analysis', 'Visualization', 'histogram_prices_70_bins.png'))"
   ]
  },
  {
   "cell_type": "markdown",
   "id": "edbb93b3",
   "metadata": {},
   "source": [
    "## Sampling data"
   ]
  },
  {
   "cell_type": "code",
   "execution_count": 21,
   "id": "208aaccf",
   "metadata": {},
   "outputs": [],
   "source": [
    "# sampling 70/30\n",
    "np.random.seed(4)\n",
    "dev = np.random.rand(len(df_orders_products_merged)) < 0.7"
   ]
  },
  {
   "cell_type": "code",
   "execution_count": 22,
   "id": "875e028a",
   "metadata": {},
   "outputs": [],
   "source": [
    "# storing 70% of the dataframe in the dataframe \"big\"\n",
    "big = df_orders_products_merged[dev]"
   ]
  },
  {
   "cell_type": "code",
   "execution_count": 23,
   "id": "c6e7b7b8",
   "metadata": {},
   "outputs": [],
   "source": [
    "# storing 30% of the dataframe in the dataframe \"small\"\n",
    "small = df_orders_products_merged[~dev]"
   ]
  },
  {
   "cell_type": "code",
   "execution_count": 24,
   "id": "3d2e58d5",
   "metadata": {},
   "outputs": [
    {
     "data": {
      "text/plain": [
       "22683761"
      ]
     },
     "execution_count": 24,
     "metadata": {},
     "output_type": "execute_result"
    }
   ],
   "source": [
    "# printing the row number of dataframe \"big\"\n",
    "len(big)"
   ]
  },
  {
   "cell_type": "code",
   "execution_count": 25,
   "id": "c8d38e81",
   "metadata": {},
   "outputs": [
    {
     "data": {
      "text/plain": [
       "9721098"
      ]
     },
     "execution_count": 25,
     "metadata": {},
     "output_type": "execute_result"
    }
   ],
   "source": [
    "# printing the row number of the dataframe \"small\"\n",
    "len(small)"
   ]
  },
  {
   "cell_type": "code",
   "execution_count": 26,
   "id": "b5b80449",
   "metadata": {},
   "outputs": [
    {
     "data": {
      "text/plain": [
       "32404859"
      ]
     },
     "execution_count": 26,
     "metadata": {},
     "output_type": "execute_result"
    }
   ],
   "source": [
    "# finding the total length of both dataframes\n",
    "len(big) + len(small)"
   ]
  },
  {
   "cell_type": "code",
   "execution_count": 27,
   "id": "add93734",
   "metadata": {},
   "outputs": [
    {
     "data": {
      "text/plain": [
       "32404859"
      ]
     },
     "execution_count": 27,
     "metadata": {},
     "output_type": "execute_result"
    }
   ],
   "source": [
    "# lenth of the original dataframe\n",
    "len(df_orders_products_merged)"
   ]
  },
  {
   "cell_type": "code",
   "execution_count": 28,
   "id": "710a0bca",
   "metadata": {},
   "outputs": [],
   "source": [
    "# creating a dataframe with only the relevant columns in the \"small\" dataframe\n",
    "df_2 = small[['order_day_of_week', 'prices']]"
   ]
  },
  {
   "cell_type": "code",
   "execution_count": 29,
   "id": "536c8c21",
   "metadata": {},
   "outputs": [
    {
     "data": {
      "image/png": "[encoded data removed]",
      "text/plain": [
       "<Figure size 432x288 with 1 Axes>"
      ]
     },
     "metadata": {
      "needs_background": "light"
     },
     "output_type": "display_data"
    }
   ],
   "source": [
    "# creating line plot\n",
    "line_small = sns.lineplot(data = df_2, x = 'order_day_of_week', y = 'prices')"
   ]
  },
  {
   "cell_type": "code",
   "execution_count": 30,
   "id": "f77340b3",
   "metadata": {},
   "outputs": [],
   "source": [
    "# expoting the \"line_small\" chart\n",
    "line_small.figure.savefig(os.path.join(path, '4. Analysis', 'Visualization', 'line_chart_small.png'))"
   ]
  },
  {
   "cell_type": "code",
   "execution_count": null,
   "id": "9b97de3e",
   "metadata": {},
   "outputs": [],
   "source": []
  }
 ],
 "metadata": {
  "kernelspec": {
   "display_name": "Python 3 (ipykernel)",
   "language": "python",
   "name": "python3"
  },
  "language_info": {
   "codemirror_mode": {
    "name": "ipython",
    "version": 3
   },
   "file_extension": ".py",
   "mimetype": "text/x-python",
   "name": "python",
   "nbconvert_exporter": "python",
   "pygments_lexer": "ipython3",
   "version": "3.9.7"
  }
 },
 "nbformat": 4,
 "nbformat_minor": 5
}
